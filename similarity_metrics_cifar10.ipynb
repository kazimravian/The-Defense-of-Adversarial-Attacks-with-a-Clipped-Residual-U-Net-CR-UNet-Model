{
  "nbformat": 4,
  "nbformat_minor": 0,
  "metadata": {
    "accelerator": "GPU",
    "colab": {
      "provenance": [],
      "collapsed_sections": []
    },
    "kernelspec": {
      "display_name": "Python 3",
      "name": "python3"
    },
    "language_info": {
      "name": "python"
    }
  },
  "cells": [
    {
      "cell_type": "code",
      "metadata": {
        "id": "fYu8Ix03WZXx"
      },
      "source": [
        "import tensorflow as tf\n",
        "from tensorflow.keras.datasets import mnist, cifar10\n",
        "import numpy as np\n",
        "import matplotlib.pyplot as plt"
      ],
      "execution_count": null,
      "outputs": []
    },
    {
      "cell_type": "code",
      "metadata": {
        "id": "DA-6WQTWXfp9"
      },
      "source": [
        "(_, _), (x_test,_) = cifar10.load_data()\n",
        "x_test = (x_test/255).astype('float32')"
      ],
      "execution_count": null,
      "outputs": []
    },
    {
      "cell_type": "code",
      "metadata": {
        "colab": {
          "base_uri": "https://localhost:8080/"
        },
        "id": "_o_0Hpm7ZyDD",
        "outputId": "82cea9a8-92bd-4769-e5a4-ed423c4d1a24"
      },
      "source": [
        "x_test = x_test[:1000]\n",
        "x_test.shape"
      ],
      "execution_count": null,
      "outputs": [
        {
          "output_type": "execute_result",
          "data": {
            "text/plain": [
              "(1000, 32, 32, 3)"
            ]
          },
          "metadata": {},
          "execution_count": 40
        }
      ]
    },
    {
      "cell_type": "markdown",
      "metadata": {
        "id": "XTqAX6xOeDOl"
      },
      "source": [
        "**L1, L2 and L_inf metrics**"
      ]
    },
    {
      "cell_type": "code",
      "metadata": {
        "colab": {
          "base_uri": "https://localhost:8080/"
        },
        "id": "hkGBgJf_mzqM",
        "outputId": "56cd3e03-4ef4-47db-c549-5f233c6bcd9d"
      },
      "source": [
        "from google.colab import drive\n",
        "drive.mount('/content/drive')"
      ],
      "execution_count": null,
      "outputs": [
        {
          "output_type": "stream",
          "name": "stdout",
          "text": [
            "Drive already mounted at /content/drive; to attempt to forcibly remount, call drive.mount(\"/content/drive\", force_remount=True).\n"
          ]
        }
      ]
    },
    {
      "cell_type": "code",
      "metadata": {
        "id": "R6LJo-_rQjka",
        "colab": {
          "base_uri": "https://localhost:8080/"
        },
        "outputId": "8e213d02-6201-4db1-bee1-c8b68b294fb0"
      },
      "source": [
        "import pickle\n",
        "out = open('./drive/My Drive/Defense_Method/adv_examples/dense_net/fgsm.pickle', 'rb')\n",
        "adv_fgsm = pickle.load(out)\n",
        "adv_fgsm.shape"
      ],
      "execution_count": null,
      "outputs": [
        {
          "output_type": "execute_result",
          "data": {
            "text/plain": [
              "TensorShape([1000, 32, 32, 3])"
            ]
          },
          "metadata": {},
          "execution_count": 42
        }
      ]
    },
    {
      "cell_type": "code",
      "metadata": {
        "colab": {
          "base_uri": "https://localhost:8080/"
        },
        "id": "uWrAca-reWrB",
        "outputId": "656f511b-bc3c-4043-9cb9-62d643ee84e6"
      },
      "source": [
        "l1 = tf.norm(adv_fgsm - x_test, ord = 1)\n",
        "l2 = tf.norm(adv_fgsm - x_test, ord = 2)\n",
        "l_inf = tf.norm(adv_fgsm - x_test, ord = np.inf)\n",
        "\n",
        "print(\"L1 Norm: \", round(l1.numpy() / len(x_test), 4))\n",
        "print(\"L2 Norm: \", round(l2.numpy() / len(x_test), 4))\n",
        "print(\"L_inf Norm: \", round(l_inf.numpy(), 4))"
      ],
      "execution_count": null,
      "outputs": [
        {
          "output_type": "stream",
          "name": "stdout",
          "text": [
            "L1 Norm:  91.7229\n",
            "L2 Norm:  0.0524\n",
            "L_inf Norm:  0.03\n"
          ]
        }
      ]
    },
    {
      "cell_type": "code",
      "metadata": {
        "id": "fE9Q0mzkgvqe"
      },
      "source": [],
      "execution_count": null,
      "outputs": []
    },
    {
      "cell_type": "code",
      "metadata": {
        "colab": {
          "base_uri": "https://localhost:8080/"
        },
        "id": "LnwmBVz7gwJV",
        "outputId": "82a953ff-4a04-4987-e529-e9a268d5eb18"
      },
      "source": [
        "import pickle\n",
        "out = open('./drive/My Drive/Defense_Method/adv_examples/dense_net/bim.pickle', 'rb')\n",
        "adv_bim = pickle.load(out)\n",
        "adv_bim.shape"
      ],
      "execution_count": null,
      "outputs": [
        {
          "output_type": "execute_result",
          "data": {
            "text/plain": [
              "TensorShape([1000, 32, 32, 3])"
            ]
          },
          "metadata": {},
          "execution_count": 44
        }
      ]
    },
    {
      "cell_type": "code",
      "metadata": {
        "colab": {
          "base_uri": "https://localhost:8080/"
        },
        "id": "B-dOuL-GgwJW",
        "outputId": "f9e8bdc1-eaef-48c3-8eed-6c5c752ac32c"
      },
      "source": [
        "l1 = tf.norm(adv_bim - x_test, ord = 1)\n",
        "l2 = tf.norm(adv_bim - x_test, ord = 2)\n",
        "l_inf = tf.norm(adv_bim - x_test, ord = np.inf)\n",
        "\n",
        "print(\"L1 Norm: \", round(l1.numpy() / len(x_test), 4))\n",
        "print(\"L2 Norm: \", round(l2.numpy() / len(x_test), 4))\n",
        "print(\"L_inf Norm: \", round(l_inf.numpy() / len(x_test), 4))"
      ],
      "execution_count": null,
      "outputs": [
        {
          "output_type": "stream",
          "name": "stdout",
          "text": [
            "L1 Norm:  19.5079\n",
            "L2 Norm:  0.0158\n",
            "L_inf Norm:  0.0001\n"
          ]
        }
      ]
    },
    {
      "cell_type": "code",
      "metadata": {
        "id": "Eo5Ur_AJhVtz"
      },
      "source": [],
      "execution_count": null,
      "outputs": []
    },
    {
      "cell_type": "code",
      "metadata": {
        "colab": {
          "base_uri": "https://localhost:8080/"
        },
        "id": "xUvMSAGFhWSj",
        "outputId": "b810ae20-15d2-4ef3-e664-c566c1209c04"
      },
      "source": [
        "import pickle\n",
        "out = open('./drive/My Drive/Defense_Method/adv_examples/dense_net/pgd.pickle', 'rb')\n",
        "adv_pgd = pickle.load(out)\n",
        "adv_pgd.shape"
      ],
      "execution_count": null,
      "outputs": [
        {
          "output_type": "execute_result",
          "data": {
            "text/plain": [
              "TensorShape([1000, 32, 32, 3])"
            ]
          },
          "metadata": {},
          "execution_count": 46
        }
      ]
    },
    {
      "cell_type": "code",
      "metadata": {
        "colab": {
          "base_uri": "https://localhost:8080/"
        },
        "id": "cy0vNrb-hWSk",
        "outputId": "17479a46-483d-4c9c-ee35-ebc7189e0413"
      },
      "source": [
        "l1 = tf.norm(adv_pgd - x_test, ord = 1)\n",
        "l2 = tf.norm(adv_pgd - x_test, ord = 2)\n",
        "l_inf = tf.norm(adv_pgd - x_test, ord = np.inf)\n",
        "\n",
        "print(\"L1 Norm: \", round(l1.numpy() / len(x_test), 4))\n",
        "print(\"L2 Norm: \", round(l2.numpy() / len(x_test), 4))\n",
        "print(\"L_inf Norm: \", round(l_inf.numpy(), 4))"
      ],
      "execution_count": null,
      "outputs": [
        {
          "output_type": "stream",
          "name": "stdout",
          "text": [
            "L1 Norm:  62.0994\n",
            "L2 Norm:  0.0395\n",
            "L_inf Norm:  0.03\n"
          ]
        }
      ]
    },
    {
      "cell_type": "code",
      "metadata": {
        "id": "_vqddjD4iHqS"
      },
      "source": [],
      "execution_count": null,
      "outputs": []
    },
    {
      "cell_type": "code",
      "metadata": {
        "colab": {
          "base_uri": "https://localhost:8080/"
        },
        "id": "0ElzyTKBiIUP",
        "outputId": "0e51df93-ac14-4b53-ee2b-d6e379a808c0"
      },
      "source": [
        "import pickle\n",
        "out = open('./drive/My Drive/Defense_Method/adv_examples/dense_net/dfa.pickle', 'rb')\n",
        "adv_dfa = pickle.load(out)\n",
        "adv_dfa.shape"
      ],
      "execution_count": null,
      "outputs": [
        {
          "output_type": "execute_result",
          "data": {
            "text/plain": [
              "TensorShape([1000, 32, 32, 3])"
            ]
          },
          "metadata": {},
          "execution_count": 48
        }
      ]
    },
    {
      "cell_type": "code",
      "metadata": {
        "colab": {
          "base_uri": "https://localhost:8080/"
        },
        "id": "7S6l66MNiIUR",
        "outputId": "e2c86aca-82e9-4e3c-d267-1d2816bb02c1"
      },
      "source": [
        "l1 = tf.norm(adv_dfa - x_test, ord = 1)\n",
        "l2 = tf.norm(adv_dfa - x_test, ord = 2)\n",
        "l_inf = tf.norm(adv_dfa - x_test, ord = np.inf)\n",
        "\n",
        "print(\"L1 Norm: \", round(l1.numpy() / len(x_test), 4))\n",
        "print(\"L2 Norm: \", round(l2.numpy() / len(x_test), 4))\n",
        "print(\"L_inf Norm: \", round(l_inf.numpy(), 4))"
      ],
      "execution_count": null,
      "outputs": [
        {
          "output_type": "stream",
          "name": "stdout",
          "text": [
            "L1 Norm:  16.6036\n",
            "L2 Norm:  0.0169\n",
            "L_inf Norm:  0.1876\n"
          ]
        }
      ]
    },
    {
      "cell_type": "code",
      "metadata": {
        "id": "9oVTxRHkimeo"
      },
      "source": [],
      "execution_count": null,
      "outputs": []
    },
    {
      "cell_type": "code",
      "metadata": {
        "colab": {
          "base_uri": "https://localhost:8080/"
        },
        "id": "lBYBCS6ppZtU",
        "outputId": "7b8bafd1-82e7-4ec4-fa9d-e99b7ee22625"
      },
      "source": [
        "import pickle\n",
        "out = open('./drive/My Drive/Defense_Method//adv_examples/cwa.pickle', 'rb')\n",
        "adv_cwa = pickle.load(out)\n",
        "adv_cwa.shape"
      ],
      "execution_count": null,
      "outputs": [
        {
          "output_type": "execute_result",
          "data": {
            "text/plain": [
              "(1000, 32, 32, 3)"
            ]
          },
          "metadata": {},
          "execution_count": 50
        }
      ]
    },
    {
      "cell_type": "code",
      "metadata": {
        "colab": {
          "base_uri": "https://localhost:8080/"
        },
        "id": "lHV8HJ8KpZtW",
        "outputId": "56cc3a46-15d8-47c6-e882-dcb388a7486b"
      },
      "source": [
        "l1 = tf.norm(adv_cwa - x_test, ord = 1)\n",
        "l2 = tf.norm(adv_cwa - x_test, ord = 2)\n",
        "l_inf = tf.norm(adv_cwa - x_test, ord = np.inf)\n",
        "\n",
        "print(\"L1 Norm: \", round(l1.numpy() / len(x_test), 4))\n",
        "print(\"L2 Norm: \", round(l2.numpy() / len(x_test), 4))\n",
        "print(\"L_inf Norm: \", round(l_inf.numpy(), 4))"
      ],
      "execution_count": null,
      "outputs": [
        {
          "output_type": "stream",
          "name": "stdout",
          "text": [
            "L1 Norm:  11.3639\n",
            "L2 Norm:  0.0113\n",
            "L_inf Norm:  0.2422\n"
          ]
        }
      ]
    },
    {
      "cell_type": "code",
      "metadata": {
        "colab": {
          "base_uri": "https://localhost:8080/"
        },
        "id": "23V3xv0iinEI",
        "outputId": "124f7885-ad5b-4986-988f-e425fb2a9bcf"
      },
      "source": [
        "import pickle\n",
        "out = open('./drive/My Drive/Defense_Method/adv_examples/dense_net/spa.pickle', 'rb')\n",
        "adv_spa = pickle.load(out)\n",
        "adv_spa.shape"
      ],
      "execution_count": null,
      "outputs": [
        {
          "output_type": "execute_result",
          "data": {
            "text/plain": [
              "TensorShape([1000, 32, 32, 3])"
            ]
          },
          "metadata": {},
          "execution_count": 52
        }
      ]
    },
    {
      "cell_type": "code",
      "metadata": {
        "colab": {
          "base_uri": "https://localhost:8080/"
        },
        "id": "v_OW8pulinEJ",
        "outputId": "04e3ad7e-e180-4220-b429-6863cdfd144d"
      },
      "source": [
        "l1 = tf.norm(adv_spa - x_test, ord = 1)\n",
        "l2 = tf.norm(adv_spa - x_test, ord = 2)\n",
        "l_inf = tf.norm(adv_spa - x_test, ord = np.inf)\n",
        "\n",
        "print(\"L1 Norm: \", round(l1.numpy() / len(x_test), 4))\n",
        "print(\"L2 Norm: \", round(l2.numpy() / len(x_test), 4))\n",
        "print(\"L_inf Norm: \", round(l_inf.numpy(), 4))"
      ],
      "execution_count": null,
      "outputs": [
        {
          "output_type": "stream",
          "name": "stdout",
          "text": [
            "L1 Norm:  701.5442\n",
            "L2 Norm:  0.5825\n",
            "L_inf Norm:  1.0\n"
          ]
        }
      ]
    },
    {
      "cell_type": "markdown",
      "metadata": {
        "id": "NAUqFbdleXhC"
      },
      "source": [
        "**SSIM and PSNR Similarity Metrics**"
      ]
    },
    {
      "cell_type": "code",
      "metadata": {
        "id": "GKsDMMZJSyVy",
        "colab": {
          "base_uri": "https://localhost:8080/"
        },
        "outputId": "7833bd0a-04b4-4d87-9458-d8bcdb49ef0b"
      },
      "source": [
        "import pickle\n",
        "out = open('./drive/My Drive/Defense_Method/restored_images/densenet/fgsm.pickle', 'rb')\n",
        "rest_fgsm = pickle.load(out)\n",
        "rest_fgsm.shape"
      ],
      "execution_count": null,
      "outputs": [
        {
          "output_type": "execute_result",
          "data": {
            "text/plain": [
              "(1000, 32, 32, 3)"
            ]
          },
          "metadata": {},
          "execution_count": 54
        }
      ]
    },
    {
      "cell_type": "code",
      "metadata": {
        "id": "KqEaAi3Fji07",
        "colab": {
          "base_uri": "https://localhost:8080/"
        },
        "outputId": "ccaaab11-a02f-4790-e6d2-2458fd5b9ea4"
      },
      "source": [
        "ssim = tf.image.ssim(rest_fgsm, x_test, max_val = 1, filter_size = 11, filter_sigma = 1.5, k1= 0.01, k2 = 0.03)\n",
        "psnr = tf.image.psnr(rest_fgsm, x_test, max_val = 255)\n",
        "\n",
        "print(\"SSIM score between orinal and restored examples: \", round(ssim.numpy().mean(), 4))\n",
        "print()\n",
        "print(\"PSNR score between orinal and restored examples: \", round(psnr.numpy().mean(), 4))"
      ],
      "execution_count": null,
      "outputs": [
        {
          "output_type": "stream",
          "name": "stdout",
          "text": [
            "SSIM score between orinal and restored examples:  0.9996\n",
            "\n",
            "PSNR score between orinal and restored examples:  101.1156\n"
          ]
        }
      ]
    },
    {
      "cell_type": "code",
      "metadata": {
        "id": "I-KGoSAkl1t0"
      },
      "source": [],
      "execution_count": null,
      "outputs": []
    },
    {
      "cell_type": "code",
      "metadata": {
        "colab": {
          "base_uri": "https://localhost:8080/"
        },
        "id": "aWhqY_K1l2Ol",
        "outputId": "fc9c0a85-fc3b-47f1-cccb-50b6e06fc8ce"
      },
      "source": [
        "import pickle\n",
        "out = open('./drive/My Drive/Defense_Method/restored_images/densenet/bim.pickle', 'rb')\n",
        "rest_bim = pickle.load(out)\n",
        "rest_bim.shape"
      ],
      "execution_count": null,
      "outputs": [
        {
          "output_type": "execute_result",
          "data": {
            "text/plain": [
              "(1000, 32, 32, 3)"
            ]
          },
          "metadata": {},
          "execution_count": 58
        }
      ]
    },
    {
      "cell_type": "code",
      "metadata": {
        "colab": {
          "base_uri": "https://localhost:8080/"
        },
        "id": "VUul77Lcl2On",
        "outputId": "ff83827c-4b4d-4ec7-abb9-73d98b4ac041"
      },
      "source": [
        "ssim = tf.image.ssim(rest_bim, x_test, max_val = 1, filter_size = 11, filter_sigma = 1.5, k1= 0.01, k2 = 0.03)\n",
        "psnr = tf.image.psnr(rest_bim, x_test, max_val = 255)\n",
        "\n",
        "print(\"SSIM score between orinal and restored examples: \", round(ssim.numpy().mean(), 4))\n",
        "print()\n",
        "print(\"PSNR score between orinal and restored examples: \", round(psnr.numpy().mean(), 4))"
      ],
      "execution_count": null,
      "outputs": [
        {
          "output_type": "stream",
          "name": "stdout",
          "text": [
            "SSIM score between orinal and restored examples:  0.9998\n",
            "\n",
            "PSNR score between orinal and restored examples:  105.1376\n"
          ]
        }
      ]
    },
    {
      "cell_type": "code",
      "metadata": {
        "id": "7o89A0TImF8W"
      },
      "source": [],
      "execution_count": null,
      "outputs": []
    },
    {
      "cell_type": "code",
      "metadata": {
        "colab": {
          "base_uri": "https://localhost:8080/"
        },
        "id": "9CB_GZ1QmHvN",
        "outputId": "142f8cd6-dca1-4682-9550-2ad3467e4c75"
      },
      "source": [
        "import pickle\n",
        "out = open('./drive/My Drive/Defense_Method/restored_images/rest_pgd.pickle', 'rb')\n",
        "rest_pgd = pickle.load(out)\n",
        "rest_pgd.shape"
      ],
      "execution_count": null,
      "outputs": [
        {
          "output_type": "execute_result",
          "data": {
            "text/plain": [
              "(1000, 32, 32, 3)"
            ]
          },
          "metadata": {},
          "execution_count": 62
        }
      ]
    },
    {
      "cell_type": "code",
      "metadata": {
        "colab": {
          "base_uri": "https://localhost:8080/"
        },
        "id": "n3l9IvgxmHvO",
        "outputId": "fc2f486a-16a6-47a7-b52d-495d27c0beb8"
      },
      "source": [
        "ssim = tf.image.ssim(rest_pgd, x_test, max_val = 1, filter_size = 11, filter_sigma = 1.5, k1= 0.01, k2 = 0.03)\n",
        "psnr = tf.image.psnr(rest_pgd, x_test, max_val = 255)\n",
        "\n",
        "print(\"SSIM score between orinal and restored examples: \", round(ssim.numpy().mean(), 4))\n",
        "print()\n",
        "print(\"PSNR score between orinal and restored examples: \", round(psnr.numpy().mean(), 4))"
      ],
      "execution_count": null,
      "outputs": [
        {
          "output_type": "stream",
          "name": "stdout",
          "text": [
            "SSIM score between orinal and restored examples:  0.9752\n",
            "\n",
            "PSNR score between orinal and restored examples:  82.4894\n"
          ]
        }
      ]
    },
    {
      "cell_type": "code",
      "metadata": {
        "id": "kmOr-yLEmxiZ"
      },
      "source": [],
      "execution_count": null,
      "outputs": []
    },
    {
      "cell_type": "code",
      "metadata": {
        "colab": {
          "base_uri": "https://localhost:8080/"
        },
        "id": "LX_O8RnLuQfa",
        "outputId": "c9caa3f3-16c0-4155-a42f-f5f85e249968"
      },
      "source": [
        "import pickle\n",
        "out = open('./drive/My Drive/Defense_Method/restored_images/densenet/dfa.pickle', 'rb')\n",
        "rest_dfa = pickle.load(out)\n",
        "rest_dfa.shape"
      ],
      "execution_count": null,
      "outputs": [
        {
          "output_type": "execute_result",
          "data": {
            "text/plain": [
              "(1000, 32, 32, 3)"
            ]
          },
          "metadata": {},
          "execution_count": 71
        }
      ]
    },
    {
      "cell_type": "code",
      "metadata": {
        "colab": {
          "base_uri": "https://localhost:8080/"
        },
        "id": "TFkWcODxuQfc",
        "outputId": "7ef698d5-d0d8-4fe3-cb4f-a7022273f305"
      },
      "source": [
        "ssim = tf.image.ssim(rest_dfa, x_test, max_val = 1, filter_size = 11, filter_sigma = 1.5, k1= 0.01, k2 = 0.03)\n",
        "psnr = tf.image.psnr(rest_dfa, x_test, max_val = 255)\n",
        "\n",
        "print(\"SSIM score between orinal and restored examples: \", round(ssim.numpy().mean(), 4))\n",
        "print()\n",
        "print(\"PSNR score between orinal and restored examples: \", round(psnr.numpy().mean(), 4))"
      ],
      "execution_count": null,
      "outputs": [
        {
          "output_type": "stream",
          "name": "stdout",
          "text": [
            "SSIM score between orinal and restored examples:  0.9631\n",
            "\n",
            "PSNR score between orinal and restored examples:  81.9175\n"
          ]
        }
      ]
    },
    {
      "cell_type": "code",
      "metadata": {
        "colab": {
          "base_uri": "https://localhost:8080/"
        },
        "id": "hhrsjk1ymych",
        "outputId": "3b4bbc5c-04b0-4e0e-8e97-c8c40627e089"
      },
      "source": [
        "import pickle\n",
        "out = open('./drive/My Drive/Defense_Method/restored_images/densenet/rest_cwa.pickle', 'rb')\n",
        "rest_cwa = pickle.load(out)\n",
        "rest_cwa.shape"
      ],
      "execution_count": null,
      "outputs": [
        {
          "output_type": "execute_result",
          "data": {
            "text/plain": [
              "(1000, 32, 32, 3)"
            ]
          },
          "metadata": {},
          "execution_count": 65
        }
      ]
    },
    {
      "cell_type": "code",
      "metadata": {
        "colab": {
          "base_uri": "https://localhost:8080/"
        },
        "id": "OuOCrHBlmyci",
        "outputId": "f4082d01-171a-47a3-e542-ae659a7cf3ba"
      },
      "source": [
        "ssim = tf.image.ssim(rest_cwa, x_test, max_val = 1, filter_size = 11, filter_sigma = 1.5, k1= 0.01, k2 = 0.03)\n",
        "psnr = tf.image.psnr(rest_cwa, x_test, max_val = 255)\n",
        "\n",
        "print(\"SSIM score between orinal and restored examples: \", round(ssim.numpy().mean(), 4))\n",
        "print()\n",
        "print(\"PSNR score between orinal and restored examples: \", round(psnr.numpy().mean(), 4))"
      ],
      "execution_count": null,
      "outputs": [
        {
          "output_type": "stream",
          "name": "stdout",
          "text": [
            "SSIM score between orinal and restored examples:  0.947\n",
            "\n",
            "PSNR score between orinal and restored examples:  80.1863\n"
          ]
        }
      ]
    },
    {
      "cell_type": "code",
      "metadata": {
        "id": "c6UQyOpbnUBy"
      },
      "source": [],
      "execution_count": null,
      "outputs": []
    },
    {
      "cell_type": "code",
      "metadata": {
        "id": "gbb3EagznW5S",
        "colab": {
          "base_uri": "https://localhost:8080/"
        },
        "outputId": "64c9c229-e5e8-4b58-cfec-892cc82e4a05"
      },
      "source": [
        "import pickle\n",
        "out = open('./drive/My Drive/Defense_Method/restored_images/spa.pickle', 'rb')\n",
        "rest_spa = pickle.load(out)\n",
        "rest_spa.shape"
      ],
      "execution_count": null,
      "outputs": [
        {
          "output_type": "execute_result",
          "data": {
            "text/plain": [
              "(1000, 32, 32, 3)"
            ]
          },
          "metadata": {},
          "execution_count": 68
        }
      ]
    },
    {
      "cell_type": "code",
      "metadata": {
        "colab": {
          "base_uri": "https://localhost:8080/"
        },
        "id": "Ux2HzPcZnW5U",
        "outputId": "5f546c78-c7e0-46e2-bd10-6f7b04dd4704"
      },
      "source": [
        "ssim = tf.image.ssim(rest_spa, x_test, max_val = 1, filter_size = 11, filter_sigma = 1.5, k1= 0.01, k2 = 0.03)\n",
        "psnr = tf.image.psnr(rest_spa, x_test, max_val = 255)\n",
        "\n",
        "print(\"SSIM score between orinal and restored examples: \", round(ssim.numpy().mean(), 4))\n",
        "print()\n",
        "print(\"PSNR score between orinal and restored examples: \", round(psnr.numpy().mean(), 4))"
      ],
      "execution_count": null,
      "outputs": [
        {
          "output_type": "stream",
          "name": "stdout",
          "text": [
            "SSIM score between orinal and restored examples:  0.967\n",
            "\n",
            "PSNR score between orinal and restored examples:  80.5931\n"
          ]
        }
      ]
    },
    {
      "cell_type": "code",
      "metadata": {
        "id": "W-FYT8YouJoB"
      },
      "source": [],
      "execution_count": null,
      "outputs": []
    }
  ]
}